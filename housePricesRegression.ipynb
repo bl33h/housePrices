{
 "cells": [
  {
   "cell_type": "markdown",
   "metadata": {},
   "source": [
    "# House Prices Regression"
   ]
  },
  {
   "cell_type": "markdown",
   "metadata": {},
   "source": [
    "- Ricardo Méndez 21289\n",
    "- Sara Echeverría 21371\n",
    "- Sebastián Juárez 21471"
   ]
  }
 ],
 "metadata": {
  "language_info": {
   "name": "python"
  }
 },
 "nbformat": 4,
 "nbformat_minor": 2
}
